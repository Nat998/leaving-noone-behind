{
 "cells": [
  {
   "cell_type": "code",
   "execution_count": 1,
   "metadata": {},
   "outputs": [],
   "source": [
    "%load_ext autoreload\n",
    "%autoreload 2"
   ]
  },
  {
   "cell_type": "code",
   "execution_count": 2,
   "metadata": {},
   "outputs": [],
   "source": [
    "import sys\n",
    "sys.path.append('../')"
   ]
  },
  {
   "cell_type": "code",
   "execution_count": 3,
   "metadata": {},
   "outputs": [],
   "source": [
    "from querysnout.src.optimized_qbs import qbs"
   ]
  },
  {
   "cell_type": "code",
   "execution_count": null,
   "metadata": {},
   "outputs": [],
   "source": [
    "import time\n",
    "\n",
    "import nest_asyncio\n",
    "\n",
    "from lnb.data_prep import load_data, split_data\n",
    "from lnb.distance import compute_achilles, top_n_vulnerable_records\n",
    "from lnb.mia import mia\n",
    "from lnb.plots import calculate_statistics, plot_achilles, plot_mia_scores\n",
    "\n",
    "nest_asyncio.apply()"
   ]
  },
  {
   "cell_type": "markdown",
   "metadata": {},
   "source": [
    "# Load data"
   ]
  },
  {
   "cell_type": "code",
   "execution_count": 5,
   "metadata": {},
   "outputs": [],
   "source": [
    "path_to_data = \"../data/adult/Adult_dataset.csv\"\n",
    "path_to_metadata = \"../data/adult/Adult_metadata_discretized.json\""
   ]
  },
  {
   "cell_type": "markdown",
   "metadata": {},
   "source": [
    "Load the full Adult dataset:"
   ]
  },
  {
   "cell_type": "code",
   "execution_count": 6,
   "metadata": {},
   "outputs": [],
   "source": [
    "df, categorical_cols, continuous_cols, meta_data = load_data(\n",
    "    path_to_data, path_to_metadata\n",
    ")"
   ]
  },
  {
   "cell_type": "markdown",
   "metadata": {},
   "source": [
    "Split the dataset into auxiliary and evaluation, and get the target dataset from the evaluation pool."
   ]
  },
  {
   "cell_type": "code",
   "execution_count": 7,
   "metadata": {},
   "outputs": [],
   "source": [
    "df_aux, df_eval, df_target = split_data(df, \"../data/adult/1000_indices.pickle\")"
   ]
  },
  {
   "cell_type": "markdown",
   "metadata": {},
   "source": [
    "# Who are the most vulnerable records?"
   ]
  },
  {
   "cell_type": "markdown",
   "metadata": {},
   "source": [
    "Find the Achilles score of each record in the target dataset."
   ]
  },
  {
   "cell_type": "code",
   "execution_count": 8,
   "metadata": {},
   "outputs": [
    {
     "name": "stdout",
     "output_type": "stream",
     "text": [
      "creating tasks\n"
     ]
    },
    {
     "name": "stderr",
     "output_type": "stream",
     "text": [
      "1000it [00:00, 170417.03it/s]\n"
     ]
    },
    {
     "name": "stdout",
     "output_type": "stream",
     "text": [
      "computing achilles\n"
     ]
    },
    {
     "name": "stderr",
     "output_type": "stream",
     "text": [
      "100%|██████████| 1000/1000 [00:01<00:00, 889.10it/s]"
     ]
    },
    {
     "name": "stdout",
     "output_type": "stream",
     "text": [
      "time taken = 1.346100091934204\n"
     ]
    },
    {
     "name": "stderr",
     "output_type": "stream",
     "text": [
      "\n"
     ]
    }
   ],
   "source": [
    "t1 = time.time()\n",
    "all_dists = compute_achilles(\n",
    "    df_target, categorical_cols, continuous_cols, meta_data, 5\n",
    ")\n",
    "t2 = time.time()\n",
    "\n",
    "print(f\"time taken = {(t2-t1)}\")"
   ]
  },
  {
   "cell_type": "markdown",
   "metadata": {},
   "source": [
    "Find the top 10 most vulnerable records:"
   ]
  },
  {
   "cell_type": "code",
   "execution_count": 9,
   "metadata": {},
   "outputs": [],
   "source": [
    "top_n_records = top_n_vulnerable_records(all_dists, 10)"
   ]
  },
  {
   "cell_type": "markdown",
   "metadata": {},
   "source": [
    "Let's take a look at the Achilles risk scores of all the records in our target dataset:"
   ]
  },
  {
   "cell_type": "code",
   "execution_count": 10,
   "metadata": {},
   "outputs": [
    {
     "data": {
      "image/png": "[encoded data removed]",
      "text/plain": [
       "<Figure size 640x480 with 1 Axes>"
      ]
     },
     "metadata": {},
     "output_type": "display_data"
    }
   ],
   "source": [
    "plot_achilles(all_dists, 10)"
   ]
  },
  {
   "cell_type": "code",
   "execution_count": 11,
   "metadata": {},
   "outputs": [
    {
     "name": "stdout",
     "output_type": "stream",
     "text": [
      "65.50% of the records in the target dataset have a below-average Achilles score.\n",
      "The third quantile is 0.08, i.e. three quarters (75%) of the records have an Achilles score below 0.08.\n"
     ]
    }
   ],
   "source": [
    "calculate_statistics(all_dists)"
   ]
  },
  {
   "cell_type": "markdown",
   "metadata": {},
   "source": [
    "The Achilles scores fall in the range between 0.0 and 0.175, with most lying on the lower end or towards the middle of the range. We see from the graph and the descriptive statistics that the risk is likely to lie with only a few high-risk records, with the other records being of low-to-medium risk."
   ]
  },
  {
   "cell_type": "markdown",
   "metadata": {},
   "source": [
    "# MIA risk score"
   ]
  },
  {
   "cell_type": "markdown",
   "metadata": {},
   "source": [
    "Let's now calculate the risk scores using MIAs for the 5 records considererd most vulnerable by their Achilles score. In this notebook, we use 100 shadow and evaluation datasets to save on time, but in a real-life situation, this number should be carefully chosen to ensure stable results and the best possible MIA performance!"
   ]
  },
  {
   "cell_type": "code",
   "execution_count": 15,
   "metadata": {},
   "outputs": [
    {
     "name": "stderr",
     "output_type": "stream",
     "text": [
      "  0%|          | 0/5 [00:00<?, ?it/s]"
     ]
    },
    {
     "name": "stdout",
     "output_type": "stream",
     "text": [
      "Generating shadow datasets...\n",
      "Extracting training features...\n",
      "training meta-classifier\n",
      "['random_forest', 'logistic_regression']\n",
      "Model: random_forest\n",
      "Model: logistic_regression\n"
     ]
    },
    {
     "name": "stderr",
     "output_type": "stream",
     "text": [
      " 20%|██        | 1/5 [03:31<14:05, 211.29s/it]"
     ]
    },
    {
     "name": "stdout",
     "output_type": "stream",
     "text": [
      "Generating shadow datasets...\n",
      "Extracting training features...\n",
      "training meta-classifier\n",
      "['random_forest', 'logistic_regression']\n",
      "Model: random_forest\n",
      "Model: logistic_regression\n"
     ]
    },
    {
     "name": "stderr",
     "output_type": "stream",
     "text": [
      " 40%|████      | 2/5 [07:09<10:46, 215.60s/it]"
     ]
    },
    {
     "name": "stdout",
     "output_type": "stream",
     "text": [
      "Generating shadow datasets...\n",
      "Extracting training features...\n",
      "training meta-classifier\n",
      "['random_forest', 'logistic_regression']\n",
      "Model: random_forest\n",
      "Model: logistic_regression\n"
     ]
    },
    {
     "name": "stderr",
     "output_type": "stream",
     "text": [
      " 60%|██████    | 3/5 [10:41<07:07, 213.82s/it]"
     ]
    },
    {
     "name": "stdout",
     "output_type": "stream",
     "text": [
      "Generating shadow datasets...\n",
      "Extracting training features...\n",
      "training meta-classifier\n",
      "['random_forest', 'logistic_regression']\n",
      "Model: random_forest\n",
      "Model: logistic_regression\n"
     ]
    },
    {
     "name": "stderr",
     "output_type": "stream",
     "text": [
      " 80%|████████  | 4/5 [14:19<03:35, 215.33s/it]"
     ]
    },
    {
     "name": "stdout",
     "output_type": "stream",
     "text": [
      "Generating shadow datasets...\n",
      "Extracting training features...\n",
      "training meta-classifier\n",
      "['random_forest', 'logistic_regression']\n",
      "Model: random_forest\n",
      "Model: logistic_regression\n"
     ]
    },
    {
     "name": "stderr",
     "output_type": "stream",
     "text": [
      "100%|██████████| 5/5 [18:02<00:00, 216.42s/it]\n"
     ]
    }
   ],
   "source": [
    "\n",
    "mia_results = mia(\n",
    "    path_to_data=path_to_data,\n",
    "    path_to_metadata=path_to_metadata,\n",
    "    path_to_data_split=\"../data/adult/1000_indices.pickle\",\n",
    "    target_records=top_n_records[:5],\n",
    "    generator_name=\"SYNTHPOP\",\n",
    "    n_synth=1000,\n",
    "    n_datasets=100,\n",
    "    epsilon=0.0,\n",
    "    output_path=\"../output/files/\",\n",
    ")"
   ]
  },
  {
   "cell_type": "code",
   "execution_count": 16,
   "metadata": {},
   "outputs": [
    {
     "data": {
      "image/png": "[encoded data removed]",
      "text/plain": [
       "<Figure size 1500x500 with 2 Axes>"
      ]
     },
     "metadata": {},
     "output_type": "display_data"
    }
   ],
   "source": [
    "plot_mia_scores(mia_results)"
   ]
  }
 ],
 "metadata": {
  "kernelspec": {
   "display_name": "synthetic_plus",
   "language": "python",
   "name": "python3"
  },
  "language_info": {
   "codemirror_mode": {
    "name": "ipython",
    "version": 3
   },
   "file_extension": ".py",
   "mimetype": "text/x-python",
   "name": "python",
   "nbconvert_exporter": "python",
   "pygments_lexer": "ipython3",
   "version": "3.9.20"
  }
 },
 "nbformat": 4,
 "nbformat_minor": 4
}
